{
 "cells": [
  {
   "cell_type": "markdown",
   "metadata": {},
   "source": [
    "# The Growth of Electric Vehicle Market in India"
   ]
  },
  {
   "cell_type": "code",
   "execution_count": 1,
   "metadata": {
    "colab": {
     "base_uri": "https://localhost:8080/"
    },
    "id": "0UwRsQw0H4lC",
    "outputId": "6ffe7f39-ad16-4bc9-f968-f82a9b391200"
   },
   "outputs": [
    {
     "name": "stdout",
     "output_type": "stream",
     "text": [
      "Requirement already satisfied: plotly==5.8.0 in c:\\users\\raush\\anaconda3\\lib\\site-packages (5.8.0)\n",
      "Requirement already satisfied: tenacity>=6.2.0 in c:\\users\\raush\\anaconda3\\lib\\site-packages (from plotly==5.8.0) (8.2.2)\n",
      "Note: you may need to restart the kernel to use updated packages.\n",
      "Requirement already satisfied: kaleido in c:\\users\\raush\\anaconda3\\lib\\site-packages (0.2.1)\n",
      "Note: you may need to restart the kernel to use updated packages.\n"
     ]
    }
   ],
   "source": [
    "import numpy as np \n",
    "%pip install plotly==5.8.0\n",
    "import pandas as pd\n",
    "import matplotlib.pyplot as plt\n",
    "%matplotlib inline\n",
    "from tqdm import tqdm\n",
    "import seaborn as sb\n",
    "import statsmodels.api as sm\n",
    "import plotly.express as px\n",
    "#from google.colab import files\n",
    "%pip install kaleido\n",
    "import kaleido\n",
    "from sklearn.preprocessing import StandardScaler,PowerTransformer\n",
    "from sklearn.decomposition import PCA\n",
    "from scipy.cluster.hierarchy import dendrogram, linkage\n",
    "from sklearn.cluster import KMeans, MeanShift, estimate_bandwidth\n",
    "from sklearn.datasets import make_blobs\n",
    "from yellowbrick.cluster import KElbowVisualizer, SilhouetteVisualizer, InterclusterDistance\n",
    "from collections import Counter\n",
    "from sklearn.model_selection import cross_validate,train_test_split\n",
    "from sklearn.linear_model import LinearRegression,LogisticRegression\n",
    "from sklearn import metrics\n",
    "from sklearn.metrics import r2_score,silhouette_score,confusion_matrix,accuracy_score\n",
    "pd.set_option(\"display.precision\",3)\n",
    "np.set_printoptions(precision=5, suppress=True)\n",
    "pd.options.display.float_format = '{:.4f}'.format\n",
    "import plotly.io as pio\n",
    "\n",
    "pio.renderers.default = \"svg\""
   ]
  },
  {
   "cell_type": "markdown",
   "metadata": {
    "id": "oa0lcz_pH95f"
   },
   "source": [
    "## Read the data"
   ]
  },
  {
   "cell_type": "code",
   "execution_count": 2,
   "metadata": {
    "colab": {
     "base_uri": "https://localhost:8080/",
     "height": 206
    },
    "id": "QsovotHTIJet",
    "outputId": "5c049a33-c762-4a92-b8e7-4c9e70f63129"
   },
   "outputs": [
    {
     "data": {
      "text/html": [
       "<div>\n",
       "<style scoped>\n",
       "    .dataframe tbody tr th:only-of-type {\n",
       "        vertical-align: middle;\n",
       "    }\n",
       "\n",
       "    .dataframe tbody tr th {\n",
       "        vertical-align: top;\n",
       "    }\n",
       "\n",
       "    .dataframe thead th {\n",
       "        text-align: right;\n",
       "    }\n",
       "</style>\n",
       "<table border=\"1\" class=\"dataframe\">\n",
       "  <thead>\n",
       "    <tr style=\"text-align: right;\">\n",
       "      <th></th>\n",
       "      <th>Brand</th>\n",
       "      <th>Model</th>\n",
       "      <th>AccelSec</th>\n",
       "      <th>TopSpeed_KmH</th>\n",
       "      <th>Range_Km</th>\n",
       "      <th>Efficiency_WhKm</th>\n",
       "      <th>FastCharge_KmH</th>\n",
       "      <th>RapidCharge</th>\n",
       "      <th>PowerTrain</th>\n",
       "      <th>PlugType</th>\n",
       "      <th>BodyStyle</th>\n",
       "      <th>Segment</th>\n",
       "      <th>Seats</th>\n",
       "      <th>PriceEuro</th>\n",
       "      <th>inr(10e3)</th>\n",
       "    </tr>\n",
       "  </thead>\n",
       "  <tbody>\n",
       "    <tr>\n",
       "      <th>0</th>\n",
       "      <td>Tesla</td>\n",
       "      <td>Model 3 Long Range Dual Motor</td>\n",
       "      <td>4.6000</td>\n",
       "      <td>233</td>\n",
       "      <td>450</td>\n",
       "      <td>161</td>\n",
       "      <td>940</td>\n",
       "      <td>1</td>\n",
       "      <td>AWD</td>\n",
       "      <td>Type 2 CCS</td>\n",
       "      <td>Sedan</td>\n",
       "      <td>D</td>\n",
       "      <td>5</td>\n",
       "      <td>55480</td>\n",
       "      <td>4615.9360</td>\n",
       "    </tr>\n",
       "    <tr>\n",
       "      <th>1</th>\n",
       "      <td>Volkswagen</td>\n",
       "      <td>ID.3 Pure</td>\n",
       "      <td>10.0000</td>\n",
       "      <td>160</td>\n",
       "      <td>270</td>\n",
       "      <td>167</td>\n",
       "      <td>250</td>\n",
       "      <td>0</td>\n",
       "      <td>RWD</td>\n",
       "      <td>Type 2 CCS</td>\n",
       "      <td>Hatchback</td>\n",
       "      <td>C</td>\n",
       "      <td>5</td>\n",
       "      <td>30000</td>\n",
       "      <td>2496.0000</td>\n",
       "    </tr>\n",
       "    <tr>\n",
       "      <th>2</th>\n",
       "      <td>Polestar</td>\n",
       "      <td>2</td>\n",
       "      <td>4.7000</td>\n",
       "      <td>210</td>\n",
       "      <td>400</td>\n",
       "      <td>181</td>\n",
       "      <td>620</td>\n",
       "      <td>1</td>\n",
       "      <td>AWD</td>\n",
       "      <td>Type 2 CCS</td>\n",
       "      <td>Liftback</td>\n",
       "      <td>D</td>\n",
       "      <td>5</td>\n",
       "      <td>56440</td>\n",
       "      <td>4695.8080</td>\n",
       "    </tr>\n",
       "    <tr>\n",
       "      <th>3</th>\n",
       "      <td>BMW</td>\n",
       "      <td>iX3</td>\n",
       "      <td>6.8000</td>\n",
       "      <td>180</td>\n",
       "      <td>360</td>\n",
       "      <td>206</td>\n",
       "      <td>560</td>\n",
       "      <td>1</td>\n",
       "      <td>RWD</td>\n",
       "      <td>Type 2 CCS</td>\n",
       "      <td>SUV</td>\n",
       "      <td>D</td>\n",
       "      <td>5</td>\n",
       "      <td>68040</td>\n",
       "      <td>5660.9280</td>\n",
       "    </tr>\n",
       "    <tr>\n",
       "      <th>4</th>\n",
       "      <td>Honda</td>\n",
       "      <td>e</td>\n",
       "      <td>9.5000</td>\n",
       "      <td>145</td>\n",
       "      <td>170</td>\n",
       "      <td>168</td>\n",
       "      <td>190</td>\n",
       "      <td>1</td>\n",
       "      <td>RWD</td>\n",
       "      <td>Type 2 CCS</td>\n",
       "      <td>Hatchback</td>\n",
       "      <td>B</td>\n",
       "      <td>4</td>\n",
       "      <td>32997</td>\n",
       "      <td>2745.3504</td>\n",
       "    </tr>\n",
       "  </tbody>\n",
       "</table>\n",
       "</div>"
      ],
      "text/plain": [
       "         Brand                          Model  AccelSec  TopSpeed_KmH  \\\n",
       "0       Tesla   Model 3 Long Range Dual Motor    4.6000           233   \n",
       "1  Volkswagen                       ID.3 Pure   10.0000           160   \n",
       "2    Polestar                               2    4.7000           210   \n",
       "3         BMW                            iX3     6.8000           180   \n",
       "4       Honda                              e     9.5000           145   \n",
       "\n",
       "   Range_Km  Efficiency_WhKm  FastCharge_KmH  RapidCharge PowerTrain  \\\n",
       "0       450              161             940            1        AWD   \n",
       "1       270              167             250            0        RWD   \n",
       "2       400              181             620            1        AWD   \n",
       "3       360              206             560            1        RWD   \n",
       "4       170              168             190            1        RWD   \n",
       "\n",
       "     PlugType  BodyStyle Segment  Seats  PriceEuro  inr(10e3)  \n",
       "0  Type 2 CCS      Sedan       D      5      55480  4615.9360  \n",
       "1  Type 2 CCS  Hatchback       C      5      30000  2496.0000  \n",
       "2  Type 2 CCS   Liftback       D      5      56440  4695.8080  \n",
       "3  Type 2 CCS        SUV       D      5      68040  5660.9280  \n",
       "4  Type 2 CCS  Hatchback       B      4      32997  2745.3504  "
      ]
     },
     "execution_count": 2,
     "metadata": {},
     "output_type": "execute_result"
    }
   ],
   "source": [
    "df = pd.read_csv('data.csv')\n",
    "df.drop('Unnamed: 0', axis=1, inplace=True)\n",
    "df['inr(10e3)'] = df['PriceEuro']*0.08320\n",
    "df['RapidCharge'].replace(to_replace=['No','Yes'],value=[0, 1],inplace=True)\n",
    "df.head()"
   ]
  },
  {
   "cell_type": "code",
   "execution_count": 3,
   "metadata": {
    "colab": {
     "base_uri": "https://localhost:8080/",
     "height": 582
    },
    "id": "VTgv0G6NINbJ",
    "outputId": "4dddbf08-30d5-4228-8bbe-e153fc5cb64e"
   },
   "outputs": [
    {
     "data": {
      "text/html": [
       "<div>\n",
       "<style scoped>\n",
       "    .dataframe tbody tr th:only-of-type {\n",
       "        vertical-align: middle;\n",
       "    }\n",
       "\n",
       "    .dataframe tbody tr th {\n",
       "        vertical-align: top;\n",
       "    }\n",
       "\n",
       "    .dataframe thead th {\n",
       "        text-align: right;\n",
       "    }\n",
       "</style>\n",
       "<table border=\"1\" class=\"dataframe\">\n",
       "  <thead>\n",
       "    <tr style=\"text-align: right;\">\n",
       "      <th></th>\n",
       "      <th>Brand</th>\n",
       "      <th>Model</th>\n",
       "      <th>AccelSec</th>\n",
       "      <th>TopSpeed_KmH</th>\n",
       "      <th>Range_Km</th>\n",
       "      <th>Efficiency_WhKm</th>\n",
       "      <th>FastCharge_KmH</th>\n",
       "      <th>RapidCharge</th>\n",
       "      <th>PowerTrain</th>\n",
       "      <th>PlugType</th>\n",
       "      <th>BodyStyle</th>\n",
       "      <th>Segment</th>\n",
       "      <th>Seats</th>\n",
       "      <th>PriceEuro</th>\n",
       "      <th>inr(10e3)</th>\n",
       "    </tr>\n",
       "  </thead>\n",
       "  <tbody>\n",
       "    <tr>\n",
       "      <th>0</th>\n",
       "      <td>Tesla</td>\n",
       "      <td>Model 3 Long Range Dual Motor</td>\n",
       "      <td>4.6000</td>\n",
       "      <td>233</td>\n",
       "      <td>450</td>\n",
       "      <td>161</td>\n",
       "      <td>940</td>\n",
       "      <td>1</td>\n",
       "      <td>AWD</td>\n",
       "      <td>Type 2 CCS</td>\n",
       "      <td>Sedan</td>\n",
       "      <td>D</td>\n",
       "      <td>5</td>\n",
       "      <td>55480</td>\n",
       "      <td>4615.9360</td>\n",
       "    </tr>\n",
       "    <tr>\n",
       "      <th>3</th>\n",
       "      <td>BMW</td>\n",
       "      <td>iX3</td>\n",
       "      <td>6.8000</td>\n",
       "      <td>180</td>\n",
       "      <td>360</td>\n",
       "      <td>206</td>\n",
       "      <td>560</td>\n",
       "      <td>1</td>\n",
       "      <td>RWD</td>\n",
       "      <td>Type 2 CCS</td>\n",
       "      <td>SUV</td>\n",
       "      <td>D</td>\n",
       "      <td>5</td>\n",
       "      <td>68040</td>\n",
       "      <td>5660.9280</td>\n",
       "    </tr>\n",
       "    <tr>\n",
       "      <th>8</th>\n",
       "      <td>Tesla</td>\n",
       "      <td>Model 3 Standard Range Plus</td>\n",
       "      <td>5.6000</td>\n",
       "      <td>225</td>\n",
       "      <td>310</td>\n",
       "      <td>153</td>\n",
       "      <td>650</td>\n",
       "      <td>1</td>\n",
       "      <td>RWD</td>\n",
       "      <td>Type 2 CCS</td>\n",
       "      <td>Sedan</td>\n",
       "      <td>D</td>\n",
       "      <td>5</td>\n",
       "      <td>46380</td>\n",
       "      <td>3858.8160</td>\n",
       "    </tr>\n",
       "    <tr>\n",
       "      <th>13</th>\n",
       "      <td>BMW</td>\n",
       "      <td>i4</td>\n",
       "      <td>4.0000</td>\n",
       "      <td>200</td>\n",
       "      <td>450</td>\n",
       "      <td>178</td>\n",
       "      <td>650</td>\n",
       "      <td>1</td>\n",
       "      <td>RWD</td>\n",
       "      <td>Type 2 CCS</td>\n",
       "      <td>Sedan</td>\n",
       "      <td>D</td>\n",
       "      <td>5</td>\n",
       "      <td>65000</td>\n",
       "      <td>5408.0000</td>\n",
       "    </tr>\n",
       "    <tr>\n",
       "      <th>21</th>\n",
       "      <td>Tesla</td>\n",
       "      <td>Model Y Long Range Dual Motor</td>\n",
       "      <td>5.1000</td>\n",
       "      <td>217</td>\n",
       "      <td>425</td>\n",
       "      <td>171</td>\n",
       "      <td>930</td>\n",
       "      <td>1</td>\n",
       "      <td>AWD</td>\n",
       "      <td>Type 2 CCS</td>\n",
       "      <td>SUV</td>\n",
       "      <td>D</td>\n",
       "      <td>7</td>\n",
       "      <td>58620</td>\n",
       "      <td>4877.1840</td>\n",
       "    </tr>\n",
       "    <tr>\n",
       "      <th>24</th>\n",
       "      <td>Tesla</td>\n",
       "      <td>Model 3 Long Range Performance</td>\n",
       "      <td>3.4000</td>\n",
       "      <td>261</td>\n",
       "      <td>435</td>\n",
       "      <td>167</td>\n",
       "      <td>910</td>\n",
       "      <td>1</td>\n",
       "      <td>AWD</td>\n",
       "      <td>Type 2 CCS</td>\n",
       "      <td>Sedan</td>\n",
       "      <td>D</td>\n",
       "      <td>5</td>\n",
       "      <td>61480</td>\n",
       "      <td>5115.1360</td>\n",
       "    </tr>\n",
       "    <tr>\n",
       "      <th>28</th>\n",
       "      <td>BMW</td>\n",
       "      <td>i3 120 Ah</td>\n",
       "      <td>7.3000</td>\n",
       "      <td>150</td>\n",
       "      <td>235</td>\n",
       "      <td>161</td>\n",
       "      <td>270</td>\n",
       "      <td>0</td>\n",
       "      <td>RWD</td>\n",
       "      <td>Type 2 CCS</td>\n",
       "      <td>Hatchback</td>\n",
       "      <td>B</td>\n",
       "      <td>4</td>\n",
       "      <td>38017</td>\n",
       "      <td>3163.0144</td>\n",
       "    </tr>\n",
       "    <tr>\n",
       "      <th>33</th>\n",
       "      <td>Tesla</td>\n",
       "      <td>Cybertruck Tri Motor</td>\n",
       "      <td>3.0000</td>\n",
       "      <td>210</td>\n",
       "      <td>750</td>\n",
       "      <td>267</td>\n",
       "      <td>710</td>\n",
       "      <td>1</td>\n",
       "      <td>AWD</td>\n",
       "      <td>Type 2 CCS</td>\n",
       "      <td>Pickup</td>\n",
       "      <td>N</td>\n",
       "      <td>6</td>\n",
       "      <td>75000</td>\n",
       "      <td>6240.0000</td>\n",
       "    </tr>\n",
       "    <tr>\n",
       "      <th>40</th>\n",
       "      <td>Tesla</td>\n",
       "      <td>Model S Long Range</td>\n",
       "      <td>3.8000</td>\n",
       "      <td>250</td>\n",
       "      <td>515</td>\n",
       "      <td>184</td>\n",
       "      <td>560</td>\n",
       "      <td>1</td>\n",
       "      <td>AWD</td>\n",
       "      <td>Type 2</td>\n",
       "      <td>Liftback</td>\n",
       "      <td>F</td>\n",
       "      <td>5</td>\n",
       "      <td>79990</td>\n",
       "      <td>6655.1680</td>\n",
       "    </tr>\n",
       "    <tr>\n",
       "      <th>51</th>\n",
       "      <td>Tesla</td>\n",
       "      <td>Roadster</td>\n",
       "      <td>2.1000</td>\n",
       "      <td>410</td>\n",
       "      <td>970</td>\n",
       "      <td>206</td>\n",
       "      <td>920</td>\n",
       "      <td>1</td>\n",
       "      <td>AWD</td>\n",
       "      <td>Type 2 CCS</td>\n",
       "      <td>Cabrio</td>\n",
       "      <td>S</td>\n",
       "      <td>4</td>\n",
       "      <td>215000</td>\n",
       "      <td>17888.0000</td>\n",
       "    </tr>\n",
       "    <tr>\n",
       "      <th>54</th>\n",
       "      <td>Tesla</td>\n",
       "      <td>Model X Long Range</td>\n",
       "      <td>4.6000</td>\n",
       "      <td>250</td>\n",
       "      <td>450</td>\n",
       "      <td>211</td>\n",
       "      <td>490</td>\n",
       "      <td>1</td>\n",
       "      <td>AWD</td>\n",
       "      <td>Type 2</td>\n",
       "      <td>SUV</td>\n",
       "      <td>F</td>\n",
       "      <td>7</td>\n",
       "      <td>85990</td>\n",
       "      <td>7154.3680</td>\n",
       "    </tr>\n",
       "    <tr>\n",
       "      <th>59</th>\n",
       "      <td>Tesla</td>\n",
       "      <td>Model S Performance</td>\n",
       "      <td>2.5000</td>\n",
       "      <td>261</td>\n",
       "      <td>505</td>\n",
       "      <td>188</td>\n",
       "      <td>550</td>\n",
       "      <td>1</td>\n",
       "      <td>AWD</td>\n",
       "      <td>Type 2</td>\n",
       "      <td>Liftback</td>\n",
       "      <td>F</td>\n",
       "      <td>5</td>\n",
       "      <td>96990</td>\n",
       "      <td>8069.5680</td>\n",
       "    </tr>\n",
       "    <tr>\n",
       "      <th>61</th>\n",
       "      <td>Tesla</td>\n",
       "      <td>Model Y Long Range Performance</td>\n",
       "      <td>3.7000</td>\n",
       "      <td>241</td>\n",
       "      <td>410</td>\n",
       "      <td>177</td>\n",
       "      <td>900</td>\n",
       "      <td>1</td>\n",
       "      <td>AWD</td>\n",
       "      <td>Type 2 CCS</td>\n",
       "      <td>SUV</td>\n",
       "      <td>D</td>\n",
       "      <td>7</td>\n",
       "      <td>65620</td>\n",
       "      <td>5459.5840</td>\n",
       "    </tr>\n",
       "    <tr>\n",
       "      <th>67</th>\n",
       "      <td>Tesla</td>\n",
       "      <td>Cybertruck Dual Motor</td>\n",
       "      <td>5.0000</td>\n",
       "      <td>190</td>\n",
       "      <td>460</td>\n",
       "      <td>261</td>\n",
       "      <td>710</td>\n",
       "      <td>1</td>\n",
       "      <td>AWD</td>\n",
       "      <td>Type 2 CCS</td>\n",
       "      <td>Pickup</td>\n",
       "      <td>N</td>\n",
       "      <td>6</td>\n",
       "      <td>55000</td>\n",
       "      <td>4576.0000</td>\n",
       "    </tr>\n",
       "    <tr>\n",
       "      <th>70</th>\n",
       "      <td>BMW</td>\n",
       "      <td>i3s 120 Ah</td>\n",
       "      <td>6.9000</td>\n",
       "      <td>160</td>\n",
       "      <td>230</td>\n",
       "      <td>165</td>\n",
       "      <td>260</td>\n",
       "      <td>1</td>\n",
       "      <td>RWD</td>\n",
       "      <td>Type 2 CCS</td>\n",
       "      <td>Hatchback</td>\n",
       "      <td>B</td>\n",
       "      <td>4</td>\n",
       "      <td>41526</td>\n",
       "      <td>3454.9632</td>\n",
       "    </tr>\n",
       "    <tr>\n",
       "      <th>81</th>\n",
       "      <td>Tesla</td>\n",
       "      <td>Model X Performance</td>\n",
       "      <td>2.8000</td>\n",
       "      <td>250</td>\n",
       "      <td>440</td>\n",
       "      <td>216</td>\n",
       "      <td>480</td>\n",
       "      <td>1</td>\n",
       "      <td>AWD</td>\n",
       "      <td>Type 2</td>\n",
       "      <td>SUV</td>\n",
       "      <td>F</td>\n",
       "      <td>7</td>\n",
       "      <td>102990</td>\n",
       "      <td>8568.7680</td>\n",
       "    </tr>\n",
       "    <tr>\n",
       "      <th>86</th>\n",
       "      <td>Tesla</td>\n",
       "      <td>Cybertruck Single Motor</td>\n",
       "      <td>7.0000</td>\n",
       "      <td>180</td>\n",
       "      <td>390</td>\n",
       "      <td>256</td>\n",
       "      <td>740</td>\n",
       "      <td>0</td>\n",
       "      <td>RWD</td>\n",
       "      <td>Type 2 CCS</td>\n",
       "      <td>Pickup</td>\n",
       "      <td>N</td>\n",
       "      <td>6</td>\n",
       "      <td>45000</td>\n",
       "      <td>3744.0000</td>\n",
       "    </tr>\n",
       "  </tbody>\n",
       "</table>\n",
       "</div>"
      ],
      "text/plain": [
       "     Brand                           Model  AccelSec  TopSpeed_KmH  Range_Km  \\\n",
       "0   Tesla    Model 3 Long Range Dual Motor    4.6000           233       450   \n",
       "3     BMW                             iX3     6.8000           180       360   \n",
       "8   Tesla      Model 3 Standard Range Plus    5.6000           225       310   \n",
       "13    BMW                              i4     4.0000           200       450   \n",
       "21  Tesla    Model Y Long Range Dual Motor    5.1000           217       425   \n",
       "24  Tesla   Model 3 Long Range Performance    3.4000           261       435   \n",
       "28    BMW                        i3 120 Ah    7.3000           150       235   \n",
       "33  Tesla             Cybertruck Tri Motor    3.0000           210       750   \n",
       "40  Tesla               Model S Long Range    3.8000           250       515   \n",
       "51  Tesla                        Roadster     2.1000           410       970   \n",
       "54  Tesla               Model X Long Range    4.6000           250       450   \n",
       "59  Tesla              Model S Performance    2.5000           261       505   \n",
       "61  Tesla   Model Y Long Range Performance    3.7000           241       410   \n",
       "67  Tesla            Cybertruck Dual Motor    5.0000           190       460   \n",
       "70    BMW                       i3s 120 Ah    6.9000           160       230   \n",
       "81  Tesla              Model X Performance    2.8000           250       440   \n",
       "86  Tesla          Cybertruck Single Motor    7.0000           180       390   \n",
       "\n",
       "    Efficiency_WhKm  FastCharge_KmH  RapidCharge PowerTrain    PlugType  \\\n",
       "0               161             940            1        AWD  Type 2 CCS   \n",
       "3               206             560            1        RWD  Type 2 CCS   \n",
       "8               153             650            1        RWD  Type 2 CCS   \n",
       "13              178             650            1        RWD  Type 2 CCS   \n",
       "21              171             930            1        AWD  Type 2 CCS   \n",
       "24              167             910            1        AWD  Type 2 CCS   \n",
       "28              161             270            0        RWD  Type 2 CCS   \n",
       "33              267             710            1        AWD  Type 2 CCS   \n",
       "40              184             560            1        AWD      Type 2   \n",
       "51              206             920            1        AWD  Type 2 CCS   \n",
       "54              211             490            1        AWD      Type 2   \n",
       "59              188             550            1        AWD      Type 2   \n",
       "61              177             900            1        AWD  Type 2 CCS   \n",
       "67              261             710            1        AWD  Type 2 CCS   \n",
       "70              165             260            1        RWD  Type 2 CCS   \n",
       "81              216             480            1        AWD      Type 2   \n",
       "86              256             740            0        RWD  Type 2 CCS   \n",
       "\n",
       "    BodyStyle Segment  Seats  PriceEuro  inr(10e3)  \n",
       "0       Sedan       D      5      55480  4615.9360  \n",
       "3         SUV       D      5      68040  5660.9280  \n",
       "8       Sedan       D      5      46380  3858.8160  \n",
       "13      Sedan       D      5      65000  5408.0000  \n",
       "21        SUV       D      7      58620  4877.1840  \n",
       "24      Sedan       D      5      61480  5115.1360  \n",
       "28  Hatchback       B      4      38017  3163.0144  \n",
       "33     Pickup       N      6      75000  6240.0000  \n",
       "40   Liftback       F      5      79990  6655.1680  \n",
       "51     Cabrio       S      4     215000 17888.0000  \n",
       "54        SUV       F      7      85990  7154.3680  \n",
       "59   Liftback       F      5      96990  8069.5680  \n",
       "61        SUV       D      7      65620  5459.5840  \n",
       "67     Pickup       N      6      55000  4576.0000  \n",
       "70  Hatchback       B      4      41526  3454.9632  \n",
       "81        SUV       F      7     102990  8568.7680  \n",
       "86     Pickup       N      6      45000  3744.0000  "
      ]
     },
     "execution_count": 3,
     "metadata": {},
     "output_type": "execute_result"
    }
   ],
   "source": [
    "df[(df['Brand'] == 'Tesla ') | (df['Brand'] == 'BMW ')]"
   ]
  },
  {
   "cell_type": "markdown",
   "metadata": {
    "id": "HZ2LLmmXIPRx"
   },
   "source": [
    "## Information of the type of data in seach column"
   ]
  },
  {
   "cell_type": "code",
   "execution_count": 4,
   "metadata": {
    "colab": {
     "base_uri": "https://localhost:8080/"
    },
    "id": "68DjMFB6I45R",
    "outputId": "4800e305-5320-4898-887a-5002f8d3ae8f"
   },
   "outputs": [
    {
     "name": "stdout",
     "output_type": "stream",
     "text": [
      "<class 'pandas.core.frame.DataFrame'>\n",
      "RangeIndex: 103 entries, 0 to 102\n",
      "Data columns (total 15 columns):\n",
      " #   Column           Non-Null Count  Dtype  \n",
      "---  ------           --------------  -----  \n",
      " 0   Brand            103 non-null    object \n",
      " 1   Model            103 non-null    object \n",
      " 2   AccelSec         103 non-null    float64\n",
      " 3   TopSpeed_KmH     103 non-null    int64  \n",
      " 4   Range_Km         103 non-null    int64  \n",
      " 5   Efficiency_WhKm  103 non-null    int64  \n",
      " 6   FastCharge_KmH   103 non-null    int64  \n",
      " 7   RapidCharge      103 non-null    int64  \n",
      " 8   PowerTrain       103 non-null    object \n",
      " 9   PlugType         103 non-null    object \n",
      " 10  BodyStyle        103 non-null    object \n",
      " 11  Segment          103 non-null    object \n",
      " 12  Seats            103 non-null    int64  \n",
      " 13  PriceEuro        103 non-null    int64  \n",
      " 14  inr(10e3)        103 non-null    float64\n",
      "dtypes: float64(2), int64(7), object(6)\n",
      "memory usage: 12.2+ KB\n"
     ]
    }
   ],
   "source": [
    "df.info()"
   ]
  },
  {
   "cell_type": "markdown",
   "metadata": {
    "id": "fUEBxWasI53g"
   },
   "source": [
    "## Finding out the number of null values"
   ]
  },
  {
   "cell_type": "code",
   "execution_count": 5,
   "metadata": {
    "colab": {
     "base_uri": "https://localhost:8080/"
    },
    "id": "LLnywNDhI9qV",
    "outputId": "cdad4511-09ce-4169-dca4-7e50b5cdf67a"
   },
   "outputs": [
    {
     "data": {
      "text/plain": [
       "Brand              0\n",
       "Model              0\n",
       "AccelSec           0\n",
       "TopSpeed_KmH       0\n",
       "Range_Km           0\n",
       "Efficiency_WhKm    0\n",
       "FastCharge_KmH     0\n",
       "RapidCharge        0\n",
       "PowerTrain         0\n",
       "PlugType           0\n",
       "BodyStyle          0\n",
       "Segment            0\n",
       "Seats              0\n",
       "PriceEuro          0\n",
       "inr(10e3)          0\n",
       "dtype: int64"
      ]
     },
     "execution_count": 5,
     "metadata": {},
     "output_type": "execute_result"
    }
   ],
   "source": [
    "df.isnull().sum()"
   ]
  },
  {
   "cell_type": "markdown",
   "metadata": {
    "id": "MW70BOGGJK4_"
   },
   "source": [
    "## Descriptive Statistics of the dataset"
   ]
  },
  {
   "cell_type": "code",
   "execution_count": 6,
   "metadata": {
    "colab": {
     "base_uri": "https://localhost:8080/",
     "height": 300
    },
    "id": "uioug-6PJM05",
    "outputId": "93e28a69-5cab-4d05-f7f6-144fe25a6f1c"
   },
   "outputs": [
    {
     "data": {
      "text/html": [
       "<div>\n",
       "<style scoped>\n",
       "    .dataframe tbody tr th:only-of-type {\n",
       "        vertical-align: middle;\n",
       "    }\n",
       "\n",
       "    .dataframe tbody tr th {\n",
       "        vertical-align: top;\n",
       "    }\n",
       "\n",
       "    .dataframe thead th {\n",
       "        text-align: right;\n",
       "    }\n",
       "</style>\n",
       "<table border=\"1\" class=\"dataframe\">\n",
       "  <thead>\n",
       "    <tr style=\"text-align: right;\">\n",
       "      <th></th>\n",
       "      <th>AccelSec</th>\n",
       "      <th>TopSpeed_KmH</th>\n",
       "      <th>Range_Km</th>\n",
       "      <th>Efficiency_WhKm</th>\n",
       "      <th>FastCharge_KmH</th>\n",
       "      <th>RapidCharge</th>\n",
       "      <th>Seats</th>\n",
       "      <th>PriceEuro</th>\n",
       "      <th>inr(10e3)</th>\n",
       "    </tr>\n",
       "  </thead>\n",
       "  <tbody>\n",
       "    <tr>\n",
       "      <th>count</th>\n",
       "      <td>103.0000</td>\n",
       "      <td>103.0000</td>\n",
       "      <td>103.0000</td>\n",
       "      <td>103.0000</td>\n",
       "      <td>103.0000</td>\n",
       "      <td>103.0000</td>\n",
       "      <td>103.0000</td>\n",
       "      <td>103.0000</td>\n",
       "      <td>103.0000</td>\n",
       "    </tr>\n",
       "    <tr>\n",
       "      <th>mean</th>\n",
       "      <td>7.3961</td>\n",
       "      <td>179.1942</td>\n",
       "      <td>338.7864</td>\n",
       "      <td>189.1650</td>\n",
       "      <td>444.2718</td>\n",
       "      <td>0.7476</td>\n",
       "      <td>4.8835</td>\n",
       "      <td>55811.5631</td>\n",
       "      <td>4643.5221</td>\n",
       "    </tr>\n",
       "    <tr>\n",
       "      <th>std</th>\n",
       "      <td>3.0174</td>\n",
       "      <td>43.5730</td>\n",
       "      <td>126.0144</td>\n",
       "      <td>29.5668</td>\n",
       "      <td>203.9493</td>\n",
       "      <td>0.4365</td>\n",
       "      <td>0.7958</td>\n",
       "      <td>34134.6653</td>\n",
       "      <td>2840.0042</td>\n",
       "    </tr>\n",
       "    <tr>\n",
       "      <th>min</th>\n",
       "      <td>2.1000</td>\n",
       "      <td>123.0000</td>\n",
       "      <td>95.0000</td>\n",
       "      <td>104.0000</td>\n",
       "      <td>170.0000</td>\n",
       "      <td>0.0000</td>\n",
       "      <td>2.0000</td>\n",
       "      <td>20129.0000</td>\n",
       "      <td>1674.7328</td>\n",
       "    </tr>\n",
       "    <tr>\n",
       "      <th>25%</th>\n",
       "      <td>5.1000</td>\n",
       "      <td>150.0000</td>\n",
       "      <td>250.0000</td>\n",
       "      <td>168.0000</td>\n",
       "      <td>260.0000</td>\n",
       "      <td>0.5000</td>\n",
       "      <td>5.0000</td>\n",
       "      <td>34429.5000</td>\n",
       "      <td>2864.5344</td>\n",
       "    </tr>\n",
       "    <tr>\n",
       "      <th>50%</th>\n",
       "      <td>7.3000</td>\n",
       "      <td>160.0000</td>\n",
       "      <td>340.0000</td>\n",
       "      <td>180.0000</td>\n",
       "      <td>440.0000</td>\n",
       "      <td>1.0000</td>\n",
       "      <td>5.0000</td>\n",
       "      <td>45000.0000</td>\n",
       "      <td>3744.0000</td>\n",
       "    </tr>\n",
       "    <tr>\n",
       "      <th>75%</th>\n",
       "      <td>9.0000</td>\n",
       "      <td>200.0000</td>\n",
       "      <td>400.0000</td>\n",
       "      <td>203.0000</td>\n",
       "      <td>555.0000</td>\n",
       "      <td>1.0000</td>\n",
       "      <td>5.0000</td>\n",
       "      <td>65000.0000</td>\n",
       "      <td>5408.0000</td>\n",
       "    </tr>\n",
       "    <tr>\n",
       "      <th>max</th>\n",
       "      <td>22.4000</td>\n",
       "      <td>410.0000</td>\n",
       "      <td>970.0000</td>\n",
       "      <td>273.0000</td>\n",
       "      <td>940.0000</td>\n",
       "      <td>1.0000</td>\n",
       "      <td>7.0000</td>\n",
       "      <td>215000.0000</td>\n",
       "      <td>17888.0000</td>\n",
       "    </tr>\n",
       "  </tbody>\n",
       "</table>\n",
       "</div>"
      ],
      "text/plain": [
       "       AccelSec  TopSpeed_KmH  Range_Km  Efficiency_WhKm  FastCharge_KmH  \\\n",
       "count  103.0000      103.0000  103.0000         103.0000        103.0000   \n",
       "mean     7.3961      179.1942  338.7864         189.1650        444.2718   \n",
       "std      3.0174       43.5730  126.0144          29.5668        203.9493   \n",
       "min      2.1000      123.0000   95.0000         104.0000        170.0000   \n",
       "25%      5.1000      150.0000  250.0000         168.0000        260.0000   \n",
       "50%      7.3000      160.0000  340.0000         180.0000        440.0000   \n",
       "75%      9.0000      200.0000  400.0000         203.0000        555.0000   \n",
       "max     22.4000      410.0000  970.0000         273.0000        940.0000   \n",
       "\n",
       "       RapidCharge    Seats   PriceEuro  inr(10e3)  \n",
       "count     103.0000 103.0000    103.0000   103.0000  \n",
       "mean        0.7476   4.8835  55811.5631  4643.5221  \n",
       "std         0.4365   0.7958  34134.6653  2840.0042  \n",
       "min         0.0000   2.0000  20129.0000  1674.7328  \n",
       "25%         0.5000   5.0000  34429.5000  2864.5344  \n",
       "50%         1.0000   5.0000  45000.0000  3744.0000  \n",
       "75%         1.0000   5.0000  65000.0000  5408.0000  \n",
       "max         1.0000   7.0000 215000.0000 17888.0000  "
      ]
     },
     "execution_count": 6,
     "metadata": {},
     "output_type": "execute_result"
    }
   ],
   "source": [
    "df.describe()"
   ]
  },
  {
   "cell_type": "code",
   "execution_count": null,
   "metadata": {
    "colab": {
     "base_uri": "https://localhost:8080/",
     "height": 521
    },
    "id": "2Ka1UZOqJPJy",
    "outputId": "a9668dfb-be2f-48e4-f351-0defb9e1e07b"
   },
   "outputs": [],
   "source": [
    "fig = px.bar(df,x='Brand',y = 'TopSpeed_KmH',color = 'Brand',title = 'Which Car Has a Top speed?',labels = {'x':'Car Brands','y':'Top Speed Km/H'})\n",
    "pio.show(fig)"
   ]
  },
  {
   "cell_type": "code",
   "execution_count": null,
   "metadata": {
    "colab": {
     "base_uri": "https://localhost:8080/",
     "height": 521
    },
    "id": "tpUGnn64JQXc",
    "outputId": "bfe27fd8-e675-400e-f468-7479b09762d2"
   },
   "outputs": [],
   "source": [
    "fig = px.bar(df,x='AccelSec',y = 'Brand',color = 'Brand',title = 'Which car has fastest accelaration?',labels = {'x':'Accelaration','y':'Car Brands'})\n",
    "pio.show(fig)"
   ]
  },
  {
   "cell_type": "code",
   "execution_count": null,
   "metadata": {
    "colab": {
     "base_uri": "https://localhost:8080/",
     "height": 529
    },
    "id": "T0zpyA6CJUQx",
    "outputId": "9261dec9-abd0-43c6-b063-632752b153e8"
   },
   "outputs": [],
   "source": [
    "df['inr(10e3)'].plot(figsize = (12,8),title='Car Price',xlabel = 'No. of Samples',ylabel = 'Car Price',color = 'red')"
   ]
  },
  {
   "cell_type": "code",
   "execution_count": null,
   "metadata": {
    "colab": {
     "base_uri": "https://localhost:8080/",
     "height": 521
    },
    "id": "jAUjv1QFJVa5",
    "outputId": "b428e231-ff9e-467f-ff77-f08ddc37005b"
   },
   "outputs": [],
   "source": [
    "fig = px.bar(df,x = 'Range_Km',y = 'PowerTrain',color = 'PowerTrain',text='PowerTrain')\n",
    "pio.show(fig)"
   ]
  },
  {
   "cell_type": "code",
   "execution_count": null,
   "metadata": {
    "colab": {
     "base_uri": "https://localhost:8080/",
     "height": 521
    },
    "id": "tA5tP6ImJdKJ",
    "outputId": "447226f8-d557-437d-bab5-317506964683"
   },
   "outputs": [],
   "source": [
    "fig = px.pie(df,names = 'Brand',values = 'inr(10e3)')\n",
    "pio.show(fig)"
   ]
  },
  {
   "cell_type": "code",
   "execution_count": null,
   "metadata": {
    "id": "FJkgP-0jJf0L"
   },
   "outputs": [],
   "source": [
    "fig = px.scatter_3d(df,x = 'Brand',y = 'Seats',z = 'Segment',color='Brand')"
   ]
  },
  {
   "cell_type": "code",
   "execution_count": null,
   "metadata": {
    "id": "8b0vvt3OJham"
   },
   "outputs": [],
   "source": [
    "fig = px.scatter_3d(df,x = 'Brand',y = 'AccelSec',z = 'inr(10e3)',color = 'Brand')"
   ]
  },
  {
   "cell_type": "code",
   "execution_count": null,
   "metadata": {
    "colab": {
     "base_uri": "https://localhost:8080/",
     "height": 521
    },
    "id": "NZkOf9MKJkZX",
    "outputId": "a4c59fae-e799-4b15-9067-d5d5430bdc34"
   },
   "outputs": [],
   "source": [
    "fig = px.box(df,x='RapidCharge',y = 'inr(10e3)',color = 'RapidCharge',points='all')\n",
    "pio.show(fig)"
   ]
  },
  {
   "cell_type": "code",
   "execution_count": null,
   "metadata": {
    "colab": {
     "base_uri": "https://localhost:8080/",
     "height": 521
    },
    "id": "XPoogeFOJnEX",
    "outputId": "a9d93264-28e2-4d6b-c191-9f1ef45a8518"
   },
   "outputs": [],
   "source": [
    "fig = px.scatter(df,x = 'Brand',y = 'Range_Km',size='Seats',color = 'Brand',hover_data=['RapidCharge','inr(10e3)'])\n",
    "pio.show(fig)"
   ]
  },
  {
   "cell_type": "markdown",
   "metadata": {
    "id": "vnkmtESdJrEc"
   },
   "source": [
    "## Pairplot of all the columns based on Rapid Charger presence"
   ]
  },
  {
   "cell_type": "code",
   "execution_count": null,
   "metadata": {
    "colab": {
     "base_uri": "https://localhost:8080/",
     "height": 1000
    },
    "id": "Y2ex9wEIJy6q",
    "outputId": "e0f9da41-fb05-46ce-8b57-68706940ba00"
   },
   "outputs": [],
   "source": [
    "sb.pairplot(df,hue='RapidCharge')"
   ]
  },
  {
   "cell_type": "markdown",
   "metadata": {
    "id": "pM4KdA0rJ0BX"
   },
   "source": [
    "## Heatmap to show the correlation of the data"
   ]
  },
  {
   "cell_type": "code",
   "execution_count": null,
   "metadata": {
    "colab": {
     "base_uri": "https://localhost:8080/",
     "height": 574
    },
    "id": "EBkiQAdeJ2fJ",
    "outputId": "c1505e2c-ec6c-4ac3-9aae-8127f18048e4"
   },
   "outputs": [],
   "source": [
    "ax= plt.figure(figsize=(15,8))\n",
    "sb.heatmap(df.corr(),linewidths=1,linecolor='white',annot=True)"
   ]
  },
  {
   "cell_type": "code",
   "execution_count": null,
   "metadata": {
    "id": "UyJH2uyPKQxT"
   },
   "outputs": [],
   "source": [
    "a=np.arange(1,104)"
   ]
  },
  {
   "cell_type": "markdown",
   "metadata": {
    "id": "zGJUrJZNKemj"
   },
   "source": [
    "# Making Some Comparisions for our dataset\n",
    "\n",
    "\n",
    "## Frequency of the Brands in the dataset"
   ]
  },
  {
   "cell_type": "code",
   "execution_count": null,
   "metadata": {
    "colab": {
     "base_uri": "https://localhost:8080/",
     "height": 437
    },
    "id": "kP_B8lxYKgGV",
    "outputId": "f1b0ecee-ef12-4bd3-985f-2b48767a9ba8"
   },
   "outputs": [],
   "source": [
    "ax= plt.figure(figsize=(20,5))\n",
    "sb.barplot(x='Brand',y=a,data=df)\n",
    "plt.grid(axis='y')\n",
    "plt.title('Brands in the datset')\n",
    "plt.xlabel('Brand')\n",
    "plt.ylabel('Frequency')\n",
    "plt.xticks(rotation=45)"
   ]
  },
  {
   "cell_type": "markdown",
   "metadata": {
    "id": "7HWD0pUFKhGS"
   },
   "source": [
    "Byton , Fiat and smart are the prominent brands and Polestar being the least\n",
    "\n",
    "\n",
    "## Top speeds achieved by the cars of a brand"
   ]
  },
  {
   "cell_type": "code",
   "execution_count": null,
   "metadata": {
    "colab": {
     "base_uri": "https://localhost:8080/",
     "height": 437
    },
    "id": "tNwEKevNKjjB",
    "outputId": "0a0568ff-4bf3-4248-a898-8d81c360d43b"
   },
   "outputs": [],
   "source": [
    "ax= plt.figure(figsize=(20,5))\n",
    "sb.barplot(x='Brand',y='TopSpeed_KmH',data=df,palette='Paired')\n",
    "plt.grid(axis='y')\n",
    "plt.title('Top Speed achieved by a brand')\n",
    "plt.xlabel('Brand')\n",
    "plt.ylabel('Top Speed')\n",
    "plt.xticks(rotation=45)"
   ]
  },
  {
   "cell_type": "markdown",
   "metadata": {
    "id": "7vHOd2F7KmAi"
   },
   "source": [
    "Porsche, Lucid and Tesla produce the fastest cars and Smart the lowest\n",
    "\n",
    "\n",
    "## Range a car can achieve"
   ]
  },
  {
   "cell_type": "code",
   "execution_count": null,
   "metadata": {
    "colab": {
     "base_uri": "https://localhost:8080/",
     "height": 437
    },
    "id": "lLThpMeLKmjB",
    "outputId": "1543ecd1-002c-4c62-d9d4-0d5c69f29302"
   },
   "outputs": [],
   "source": [
    "ax= plt.figure(figsize=(20,5))\n",
    "sb.barplot(x='Brand',y='Range_Km',data=df,palette='tab10')\n",
    "plt.grid(axis='y')\n",
    "plt.title('Maximum Range achieved by a brand')\n",
    "plt.xlabel('Brand')\n",
    "plt.ylabel('Range')\n",
    "plt.xticks(rotation=45)"
   ]
  },
  {
   "cell_type": "markdown",
   "metadata": {
    "id": "wDfbU_qfKm9I"
   },
   "source": [
    "Lucid, Lightyear and Tesla have the highest range and Smart the lowest\n",
    "\n",
    "## Car efficiency"
   ]
  },
  {
   "cell_type": "code",
   "execution_count": null,
   "metadata": {
    "colab": {
     "base_uri": "https://localhost:8080/",
     "height": 437
    },
    "id": "eUKkk7vDKnEe",
    "outputId": "898079ca-e448-47f8-a46f-2e2b3d75e32e"
   },
   "outputs": [],
   "source": [
    "ax= plt.figure(figsize=(20,5))\n",
    "sb.barplot(x='Brand',y='Efficiency_WhKm',data=df,palette='hls')\n",
    "plt.grid(axis='y')\n",
    "plt.title('Efficiency achieved by a brand')\n",
    "plt.xlabel('Brand')\n",
    "plt.ylabel('Efficiency')\n",
    "plt.xticks(rotation=45)"
   ]
  },
  {
   "cell_type": "markdown",
   "metadata": {
    "id": "4YbVC0tCKnKW"
   },
   "source": [
    "Byton , Jaguar and Audi are the most efficient and Lightyear the least\n",
    "\n",
    "## Number of seats in each car"
   ]
  },
  {
   "cell_type": "code",
   "execution_count": null,
   "metadata": {
    "colab": {
     "base_uri": "https://localhost:8080/",
     "height": 437
    },
    "id": "iq7SGVS6KnQa",
    "outputId": "83b0d8b8-bba0-4e81-9cf6-c1782c7e596d"
   },
   "outputs": [],
   "source": [
    "ax= plt.figure(figsize=(20,5))\n",
    "sb.barplot(x='Brand',y='Seats',data=df,palette='husl')\n",
    "plt.grid(axis='y')\n",
    "plt.title('Seats in a car')\n",
    "plt.xlabel('Brand')\n",
    "plt.ylabel('Seats')\n",
    "plt.xticks(rotation=45)"
   ]
  },
  {
   "cell_type": "markdown",
   "metadata": {
    "id": "asPckNx5Kye6"
   },
   "source": [
    "Mercedes, Tesla and Nissan have the highest number of seats and Smart the lowest\n",
    "\n",
    "## Price of cars (in INR)"
   ]
  },
  {
   "cell_type": "code",
   "execution_count": null,
   "metadata": {
    "colab": {
     "base_uri": "https://localhost:8080/",
     "height": 437
    },
    "id": "HZDCF4KEKksG",
    "outputId": "7c5b756e-6a0f-4e5f-bb09-4bd1dd83c78f"
   },
   "outputs": [],
   "source": [
    "ax= plt.figure(figsize=(20,5))\n",
    "sb.barplot(x='Brand',y='inr(10e3)',data=df,palette='Set2')\n",
    "plt.title('Price of a Car')\n",
    "plt.xlabel('Price in INR')\n",
    "plt.grid(axis='y')\n",
    "plt.ylabel('Frequency')\n",
    "plt.xticks(rotation=45)"
   ]
  },
  {
   "cell_type": "markdown",
   "metadata": {
    "id": "wsQgVastK4KN"
   },
   "source": [
    "Lightyear, Porsche and Lucid are the most expensive and SEAT and Smart the least\n",
    "\n",
    "## Type of Plug used for charging"
   ]
  },
  {
   "cell_type": "code",
   "execution_count": null,
   "metadata": {
    "colab": {
     "base_uri": "https://localhost:8080/",
     "height": 509
    },
    "id": "wrdf2k-KK6Zw",
    "outputId": "1477e659-5dac-4803-9df0-02c9d3fa5f2d"
   },
   "outputs": [],
   "source": [
    "df['PlugType'].value_counts().plot.pie(figsize=(8,15),autopct='%.0f%%',explode=(.1,.1,.1,.1))\n",
    "plt.title('Plug Type')"
   ]
  },
  {
   "cell_type": "markdown",
   "metadata": {
    "id": "4d6lb2lXK7Yr"
   },
   "source": [
    "Most companies use Type 2 CCS and Type 1 CHAdeMo the least\n",
    "\n",
    "## Cars and their body style"
   ]
  },
  {
   "cell_type": "code",
   "execution_count": null,
   "metadata": {
    "colab": {
     "base_uri": "https://localhost:8080/",
     "height": 509
    },
    "id": "bsvzBzX8K_xn",
    "outputId": "e263076c-b1bf-437d-e6c8-519a901c9ae6"
   },
   "outputs": [],
   "source": [
    "df['BodyStyle'].value_counts().plot.pie(figsize=(8,15),autopct='%.0f%%',explode=(0.1,0.1,0.1,0.1,0.1,0.1,0.1,0.1,0.1))\n",
    "plt.title('Body Style')"
   ]
  },
  {
   "cell_type": "markdown",
   "metadata": {
    "id": "CQ_RQs2bLAvr"
   },
   "source": [
    "Most cars are eiher SUV or Hatchback\n",
    "\n",
    "## Segment in which the cars fall under"
   ]
  },
  {
   "cell_type": "code",
   "execution_count": null,
   "metadata": {
    "colab": {
     "base_uri": "https://localhost:8080/",
     "height": 509
    },
    "id": "yMuXMyQNLCUD",
    "outputId": "bb5164ec-4cbb-4279-91ee-4390902810f3"
   },
   "outputs": [],
   "source": [
    "df['Segment'].value_counts().plot.pie(figsize=(8,15),autopct='%.0f%%',explode=(0.1,0.1,0.1,0.1,0.1,0.1,0.1,0.1))\n",
    "plt.title('Segment')"
   ]
  },
  {
   "cell_type": "markdown",
   "metadata": {
    "id": "_r6pxC2LLDSc"
   },
   "source": [
    "Most cars are either C or B type\n",
    "\n",
    "## Number of Seats"
   ]
  },
  {
   "cell_type": "code",
   "execution_count": null,
   "metadata": {
    "colab": {
     "base_uri": "https://localhost:8080/",
     "height": 509
    },
    "id": "t40z6x0sLFtP",
    "outputId": "55b098a7-77b1-419c-cf6d-5a47b9d29e4e"
   },
   "outputs": [],
   "source": [
    "df['Seats'].value_counts().plot.pie(figsize=(8,15),autopct='%.0f%%',explode=(0.1,0.1,0.1,0.1,0.1))\n",
    "plt.title('Seats')"
   ]
  },
  {
   "cell_type": "markdown",
   "metadata": {
    "id": "xgUCmDnKLGrF"
   },
   "source": [
    "Majority of cars have 5 seats"
   ]
  },
  {
   "cell_type": "code",
   "execution_count": null,
   "metadata": {
    "colab": {
     "base_uri": "https://localhost:8080/",
     "height": 237
    },
    "id": "Z_84GuXHIRsf",
    "outputId": "f1ab4b1b-d7f6-4b18-b489-d17e9357c22b"
   },
   "outputs": [],
   "source": [
    "df3= df[[\"TopSpeed_KmH\", \"inr(10e3)\"]].groupby(\"TopSpeed_KmH\").count()\n",
    "df4= df[[\"Range_Km\", \"inr(10e3)\"]].groupby(\"Range_Km\").count()\n",
    "df5= df[[\"Range_Km\", \"TopSpeed_KmH\"]].groupby(\"Range_Km\").count()\n",
    "df5.head()"
   ]
  },
  {
   "cell_type": "code",
   "execution_count": null,
   "metadata": {
    "id": "UaqVW7GvIR1U"
   },
   "outputs": [],
   "source": [
    "df3=df3.sort_values(\"TopSpeed_KmH\",ascending = False).head(10)\n",
    "df4=df4.sort_values(\"Range_Km\",ascending = False).head(10)\n",
    "df5=df5.sort_values(\"Range_Km\",ascending = False).head(10)"
   ]
  },
  {
   "cell_type": "code",
   "execution_count": null,
   "metadata": {
    "colab": {
     "base_uri": "https://localhost:8080/",
     "height": 426
    },
    "id": "0mOhpdS0IR8V",
    "outputId": "f1e2fb04-c204-40ec-9b28-43531b9fde2f"
   },
   "outputs": [],
   "source": [
    "plt.figure(figsize=(10,7))\n",
    "plt.title('Cost based on top speed')\n",
    "plt.pie(x=df3[\"inr(10e3)\"],labels=df3.index,autopct='%1.0f%%')\n",
    "plt.show()"
   ]
  },
  {
   "cell_type": "code",
   "execution_count": null,
   "metadata": {
    "colab": {
     "base_uri": "https://localhost:8080/",
     "height": 426
    },
    "id": "P8uWuadZISI2",
    "outputId": "0701e502-5ea3-493b-f8da-942e57dbeafe"
   },
   "outputs": [],
   "source": [
    "plt.figure(figsize=(10,7))\n",
    "plt.title('Cost based on Maximum Range')\n",
    "plt.pie(x=df4[\"inr(10e3)\"],labels=df4.index,autopct='%1.0f%%')\n",
    "plt.show()"
   ]
  },
  {
   "cell_type": "code",
   "execution_count": null,
   "metadata": {
    "colab": {
     "base_uri": "https://localhost:8080/",
     "height": 426
    },
    "id": "OrLDFDRNISQ9",
    "outputId": "89c1d4cf-27e9-43dd-af19-31443ac57eea"
   },
   "outputs": [],
   "source": [
    "plt.figure(figsize=(10,7))\n",
    "plt.title('Top Speeds based on Maximum Range')\n",
    "plt.pie(x=df5[\"TopSpeed_KmH\"],labels=df5.index,autopct='%1.0f%%')\n",
    "plt.show()"
   ]
  },
  {
   "cell_type": "markdown",
   "metadata": {
    "id": "W-GWHCBLIOty"
   },
   "source": [
    "# Regression\n",
    "\n",
    "## Putting independent variables as x and dependent variable as y"
   ]
  },
  {
   "cell_type": "code",
   "execution_count": null,
   "metadata": {
    "id": "s8S0kRyBLItZ"
   },
   "outputs": [],
   "source": [
    "df['PowerTrain'].replace(to_replace=['RWD','AWD','FWD'],value=[0, 2,1],inplace=True)\n",
    "x=df[['AccelSec','Range_Km','TopSpeed_KmH','Efficiency_WhKm', 'RapidCharge','PowerTrain']]\n",
    "y=df['PriceEuro']"
   ]
  },
  {
   "cell_type": "markdown",
   "metadata": {
    "id": "_yBwLLjuLX-2"
   },
   "source": [
    "## Finding out the linear regression using OLS method"
   ]
  },
  {
   "cell_type": "code",
   "execution_count": null,
   "metadata": {
    "colab": {
     "base_uri": "https://localhost:8080/"
    },
    "id": "d0TpcQ0MLcYH",
    "outputId": "639187ab-5eb5-427f-b7a1-a80bda026910"
   },
   "outputs": [],
   "source": [
    "x= sm.add_constant(x)\n",
    "results = sm.OLS(y,x)"
   ]
  },
  {
   "cell_type": "markdown",
   "metadata": {
    "id": "VZXHSw6rLdN8"
   },
   "source": [
    "## Fitting the model and summarizing"
   ]
  },
  {
   "cell_type": "code",
   "execution_count": null,
   "metadata": {
    "colab": {
     "base_uri": "https://localhost:8080/",
     "height": 571
    },
    "id": "Ibxpssf5Lf78",
    "outputId": "1cadf9a1-485c-4ee9-df84-80a3ee062e63"
   },
   "outputs": [],
   "source": [
    "model=results.fit()\n",
    "model.summary()"
   ]
  },
  {
   "cell_type": "markdown",
   "metadata": {
    "id": "ogGMZ9dwL9rr"
   },
   "source": [
    "Notes:\n",
    "\n",
    "1. Standard Errors assume that the covariance matrix of the errors is correctly specified.\n",
    "2. The condition number is large, 5.53e+03. This might indicate that there are\n",
    "strong multicollinearity or other numerical problems.\n",
    "\n",
    "Only Top Speed and Efficieny are the two variables related to price"
   ]
  },
  {
   "cell_type": "code",
   "execution_count": null,
   "metadata": {
    "id": "NbbV5AYmL_vg"
   },
   "outputs": [],
   "source": [
    "X_train, X_test, y_train, y_test = train_test_split(x, y, test_size=0.3,random_state=365)"
   ]
  },
  {
   "cell_type": "code",
   "execution_count": null,
   "metadata": {
    "id": "khFpHqzcMCnC"
   },
   "outputs": [],
   "source": [
    "lr= LinearRegression()\n",
    "lr.fit(X_train, y_train)\n",
    "pred = lr.predict(X_test)"
   ]
  },
  {
   "cell_type": "markdown",
   "metadata": {
    "id": "inqaprvsME1P"
   },
   "source": [
    "## Finding out the R-squared value"
   ]
  },
  {
   "cell_type": "code",
   "execution_count": null,
   "metadata": {
    "colab": {
     "base_uri": "https://localhost:8080/"
    },
    "id": "Skf43Ks7MGfz",
    "outputId": "949da8ca-d99c-4770-8a8e-df1dd814876c"
   },
   "outputs": [],
   "source": [
    "r2=(r2_score(y_test,pred))\n",
    "print(r2*100)"
   ]
  },
  {
   "cell_type": "markdown",
   "metadata": {
    "id": "Wj9p4IBeMHZo"
   },
   "source": [
    "Around 78% of the dependant variable has been explained by the independant variables"
   ]
  },
  {
   "cell_type": "code",
   "execution_count": null,
   "metadata": {
    "id": "ED8POPKnMQUX"
   },
   "outputs": [],
   "source": [
    "y1=df[['RapidCharge']]\n",
    "x1=df[['PriceEuro']]"
   ]
  },
  {
   "cell_type": "code",
   "execution_count": null,
   "metadata": {
    "id": "0Ygk0pI_MRWu"
   },
   "outputs": [],
   "source": [
    "X1_train, X1_test, y1_train, y1_test = train_test_split(x1, y1, test_size=0.2,random_state=365)"
   ]
  },
  {
   "cell_type": "code",
   "execution_count": null,
   "metadata": {
    "colab": {
     "base_uri": "https://localhost:8080/"
    },
    "id": "2kH9sX11MSQj",
    "outputId": "28afb025-2287-49d2-e2a1-1bffde91c650"
   },
   "outputs": [],
   "source": [
    "log= LogisticRegression()\n",
    "log.fit(X1_train, y1_train)\n",
    "pred1 = log.predict(X1_test)\n",
    "pred1"
   ]
  },
  {
   "cell_type": "markdown",
   "metadata": {
    "id": "Ov08IlheMUms"
   },
   "source": [
    "## Confusion Matrix of the regression"
   ]
  },
  {
   "cell_type": "code",
   "execution_count": null,
   "metadata": {
    "colab": {
     "base_uri": "https://localhost:8080/"
    },
    "id": "cXVZxKLyMXNe",
    "outputId": "5609b3b7-3d3a-4eff-a17c-a9e6e258ca71"
   },
   "outputs": [],
   "source": [
    "cm = confusion_matrix(y1_test, pred1)\n",
    "cm"
   ]
  },
  {
   "cell_type": "markdown",
   "metadata": {
    "id": "4WHrmXixMYER"
   },
   "source": [
    "## Clustering"
   ]
  },
  {
   "cell_type": "code",
   "execution_count": null,
   "metadata": {
    "colab": {
     "base_uri": "https://localhost:8080/",
     "height": 514
    },
    "id": "-i_OGS6rMZf3",
    "outputId": "2c4f4f86-804a-46d6-b1ea-1bd1c969242d"
   },
   "outputs": [],
   "source": [
    "ax=plt.subplots(figsize=(15,8))\n",
    "sb.stripplot(x='TopSpeed_KmH', y='FastCharge_KmH', data=df, jitter=True)"
   ]
  },
  {
   "cell_type": "code",
   "execution_count": null,
   "metadata": {
    "colab": {
     "base_uri": "https://localhost:8080/",
     "height": 514
    },
    "id": "et87wde_MasE",
    "outputId": "eb895aed-a850-4de2-faa7-47f046d7581d"
   },
   "outputs": [],
   "source": [
    "ax=plt.subplots(figsize=(15,8))\n",
    "sb.stripplot(x='TopSpeed_KmH', y='Efficiency_WhKm', data=df, jitter=True)"
   ]
  },
  {
   "cell_type": "code",
   "execution_count": null,
   "metadata": {
    "id": "Y21t3Dv0Mc9s"
   },
   "outputs": [],
   "source": [
    "features = ['AccelSec','TopSpeed_KmH','Efficiency_WhKm','FastCharge_KmH', 'RapidCharge','Range_Km', 'Seats', 'inr(10e3)','PowerTrain']\n",
    "# Separating out the features\n",
    "x = df.loc[:, features].values\n",
    "x = StandardScaler().fit_transform(x)"
   ]
  },
  {
   "cell_type": "code",
   "execution_count": null,
   "metadata": {
    "colab": {
     "base_uri": "https://localhost:8080/",
     "height": 423
    },
    "id": "VU2aIFVTM1T3",
    "outputId": "3972234e-882e-48b9-b24f-fbd207369d79"
   },
   "outputs": [],
   "source": [
    "pca = PCA(n_components=9)\n",
    "t = pca.fit_transform(x)\n",
    "data2 = pd.DataFrame(t, columns=['PC1', 'PC2','PC3','PC4','Pc5','PC6', 'PC7', 'PC8','PC9'])\n",
    "data2"
   ]
  },
  {
   "cell_type": "code",
   "execution_count": null,
   "metadata": {
    "colab": {
     "base_uri": "https://localhost:8080/",
     "height": 143
    },
    "id": "sKjNYTWCM7fu",
    "outputId": "6c251a2b-3903-4c54-b37d-abe7185e18ba"
   },
   "outputs": [],
   "source": [
    "df_9=data2.iloc[:,:9]\n",
    "df_9.head(3)"
   ]
  },
  {
   "cell_type": "code",
   "execution_count": null,
   "metadata": {
    "colab": {
     "base_uri": "https://localhost:8080/",
     "height": 363
    },
    "id": "fr6QX-OzM_Wp",
    "outputId": "129598f2-5c48-45e2-f668-41758cbdb535"
   },
   "outputs": [],
   "source": [
    "# correlation coefficient between original variables and the component\n",
    "loadings = pca.components_\n",
    "num_pc = pca.n_features_\n",
    "pc_list = [\"PC\"+str(i) for i in list(range(1, num_pc+1))]\n",
    "loadings_df = pd.DataFrame.from_dict(dict(zip(pc_list, loadings)))\n",
    "loadings_df['variable'] = df_9.columns.values\n",
    "loadings_df = loadings_df.set_index('variable')\n",
    "loadings_df"
   ]
  },
  {
   "cell_type": "code",
   "execution_count": null,
   "metadata": {
    "colab": {
     "base_uri": "https://localhost:8080/",
     "height": 867
    },
    "id": "0YCEswLRNCLd",
    "outputId": "3b25171c-3a76-4db5-bfa3-58f7785470df"
   },
   "outputs": [],
   "source": [
    "#Correlation matrix plot for loadings \n",
    "plt.rcParams['figure.figsize'] = (20,15)\n",
    "ax = sb.heatmap(loadings_df, annot=True, cmap='Spectral')\n",
    "plt.show()"
   ]
  },
  {
   "cell_type": "code",
   "execution_count": null,
   "metadata": {
    "colab": {
     "base_uri": "https://localhost:8080/",
     "height": 536
    },
    "id": "K8yTQd8fNEJQ",
    "outputId": "e1d3345a-d4a9-4f37-90c4-b172c063bcf1"
   },
   "outputs": [],
   "source": [
    "linked = linkage(data2, 'complete')\n",
    "plt.figure(figsize=(13, 9))\n",
    "dendrogram(linked, orientation='top')\n",
    "plt.show()"
   ]
  },
  {
   "cell_type": "code",
   "execution_count": null,
   "metadata": {
    "colab": {
     "base_uri": "https://localhost:8080/",
     "height": 892
    },
    "id": "0ncSnHRENdG_",
    "outputId": "4ffbe396-bc5f-4be4-99e7-473ecc27118f"
   },
   "outputs": [],
   "source": [
    "PC_values = np.arange(pca.n_components_) + 1\n",
    "plt.plot(PC_values, pca.explained_variance_ratio_, 'o-', linewidth=2, color='blue')\n",
    "plt.title('Scree Plot')\n",
    "plt.xlabel('Principal Component')\n",
    "plt.ylabel('Variance Explained')\n",
    "plt.show()"
   ]
  },
  {
   "cell_type": "code",
   "execution_count": null,
   "metadata": {
    "colab": {
     "base_uri": "https://localhost:8080/",
     "height": 909
    },
    "id": "YEeWxqwmNsAm",
    "outputId": "5d241739-4670-4f1e-f40d-cec1e7d2ec61"
   },
   "outputs": [],
   "source": [
    "model = KMeans(random_state=40)\n",
    "visualizer = KElbowVisualizer(model, k=(2,9), metric='distortion', timings=True)\n",
    "visualizer.fit(t)        # Fit the data to the visualizer\n",
    "visualizer.show()        # Finalize and render the figure"
   ]
  },
  {
   "cell_type": "code",
   "execution_count": null,
   "metadata": {
    "colab": {
     "base_uri": "https://localhost:8080/",
     "height": 909
    },
    "id": "MjbJdOlhN2v2",
    "outputId": "89d70b0c-a4d5-4c58-d490-86fa1eb1990a"
   },
   "outputs": [],
   "source": [
    "model = KMeans(random_state=40)\n",
    "visualizer = KElbowVisualizer(model, k=(2,9), metric='silhouette', timings=True)\n",
    "visualizer.fit(t)        # Fit the data to the visualizer\n",
    "visualizer.show()        # Finalize and render the figure"
   ]
  },
  {
   "cell_type": "code",
   "execution_count": null,
   "metadata": {
    "colab": {
     "base_uri": "https://localhost:8080/",
     "height": 909
    },
    "id": "FMA6YdisOWJv",
    "outputId": "014cabdf-8c54-47d5-a198-2d78275b7ad4"
   },
   "outputs": [],
   "source": [
    "model = KMeans(random_state=40)\n",
    "visualizer = KElbowVisualizer(model, k=(2,9), metric='calinski_harabasz', timings=True)\n",
    "visualizer.fit(t)        # Fit the data to the visualizer\n",
    "visualizer.show()        # Finalize and render the figure"
   ]
  },
  {
   "cell_type": "code",
   "execution_count": null,
   "metadata": {
    "colab": {
     "base_uri": "https://localhost:8080/"
    },
    "id": "9avd1tC_OgLr",
    "outputId": "ed0e3f91-9f06-4d26-bee2-95fc98bd2f0f"
   },
   "outputs": [],
   "source": [
    "#K-means clustering \n",
    "\n",
    "kmeans = KMeans(n_clusters=4, init='k-means++', random_state=0).fit(t)\n",
    "df['cluster_num'] = kmeans.labels_ #adding to df\n",
    "print (kmeans.labels_) #Label assigned for each data point\n",
    "print (kmeans.inertia_) #gives within-cluster sum of squares. \n",
    "print(kmeans.n_iter_) #number of iterations that k-means algorithm runs to get a minimum within-cluster sum of squares\n",
    "print(kmeans.cluster_centers_) #Location of the centroids on each cluster."
   ]
  },
  {
   "cell_type": "code",
   "execution_count": null,
   "metadata": {
    "colab": {
     "base_uri": "https://localhost:8080/"
    },
    "id": "Y9MiKMllOqjH",
    "outputId": "ba75d7f1-667e-4ec3-afc8-61ab5e921a29"
   },
   "outputs": [],
   "source": [
    "#To see each cluster size\n",
    "\n",
    "Counter(kmeans.labels_)"
   ]
  },
  {
   "cell_type": "code",
   "execution_count": null,
   "metadata": {
    "colab": {
     "base_uri": "https://localhost:8080/",
     "height": 877
    },
    "id": "O9rxKBofOwup",
    "outputId": "0350de62-9c01-4aa7-fd7d-a67fa61ca66d"
   },
   "outputs": [],
   "source": [
    "#Visulazing clusters\n",
    "sb.scatterplot(data=data2, x=\"PC1\", y=\"PC9\", hue=kmeans.labels_)\n",
    "plt.scatter(kmeans.cluster_centers_[:,0], kmeans.cluster_centers_[:,1], \n",
    "            marker=\"X\", c=\"r\", s=80, label=\"centroids\")\n",
    "plt.legend()\n",
    "plt.show()"
   ]
  },
  {
   "cell_type": "markdown",
   "metadata": {
    "id": "vvW9brECO0oI"
   },
   "source": [
    "## Regression for data2"
   ]
  },
  {
   "cell_type": "code",
   "execution_count": null,
   "metadata": {
    "id": "qs68H2gyPAcj"
   },
   "outputs": [],
   "source": [
    "X=data2[['PC1', 'PC2','PC3','PC4','Pc5','PC6', 'PC7','PC8','PC9']]\n",
    "y=df['inr(10e3)']"
   ]
  },
  {
   "cell_type": "code",
   "execution_count": null,
   "metadata": {
    "id": "LgaBZ7ijPEvJ"
   },
   "outputs": [],
   "source": [
    "X_train, X_test, y_train, y_test = train_test_split(X, y,test_size=0.4, random_state=101)\n",
    "lm=LinearRegression().fit(X_train,y_train)"
   ]
  },
  {
   "cell_type": "code",
   "execution_count": null,
   "metadata": {
    "colab": {
     "base_uri": "https://localhost:8080/"
    },
    "id": "6u6pZUchPF4Q",
    "outputId": "5f9d2f1a-1b72-40b0-ee66-3d5e909d5518"
   },
   "outputs": [],
   "source": [
    "print(lm.intercept_)"
   ]
  },
  {
   "cell_type": "code",
   "execution_count": null,
   "metadata": {
    "colab": {
     "base_uri": "https://localhost:8080/"
    },
    "id": "3zqwQoLKPHMN",
    "outputId": "22e81f79-c715-4671-a95d-dd2bc4e3ddca"
   },
   "outputs": [],
   "source": [
    "lm.coef_"
   ]
  },
  {
   "cell_type": "code",
   "execution_count": null,
   "metadata": {
    "colab": {
     "base_uri": "https://localhost:8080/"
    },
    "id": "1DSxakLzPIDo",
    "outputId": "d7ff7e60-430e-4db0-ed3b-6097de2a29b6"
   },
   "outputs": [],
   "source": [
    "X_train.columns"
   ]
  },
  {
   "cell_type": "code",
   "execution_count": null,
   "metadata": {
    "colab": {
     "base_uri": "https://localhost:8080/",
     "height": 331
    },
    "id": "SXwrN64iPI_C",
    "outputId": "70475692-647a-4595-b5ad-009820d443c7"
   },
   "outputs": [],
   "source": [
    "cdf=pd.DataFrame(lm.coef_, X.columns, columns=['Coeff'])\n",
    "cdf"
   ]
  },
  {
   "cell_type": "code",
   "execution_count": null,
   "metadata": {
    "colab": {
     "base_uri": "https://localhost:8080/"
    },
    "id": "TczTbu52PLYK",
    "outputId": "634be88f-fdf3-4d4e-ffbc-65d2484c7dbc"
   },
   "outputs": [],
   "source": [
    "predictions=lm.predict(X_test)\n",
    "predictions"
   ]
  },
  {
   "cell_type": "code",
   "execution_count": null,
   "metadata": {
    "colab": {
     "base_uri": "https://localhost:8080/"
    },
    "id": "BJIKFnMzPMSK",
    "outputId": "88c44065-90cc-4f5d-b38f-acdddc6619f0"
   },
   "outputs": [],
   "source": [
    "y_test"
   ]
  },
  {
   "cell_type": "code",
   "execution_count": null,
   "metadata": {
    "colab": {
     "base_uri": "https://localhost:8080/",
     "height": 880
    },
    "id": "ysZGsIutPNZs",
    "outputId": "3e2486a4-b7b4-4938-cc4b-85cb65e981f1"
   },
   "outputs": [],
   "source": [
    "plt.scatter(y_test, predictions)"
   ]
  },
  {
   "cell_type": "code",
   "execution_count": null,
   "metadata": {
    "colab": {
     "base_uri": "https://localhost:8080/",
     "height": 975
    },
    "id": "mAChAfCMPOd7",
    "outputId": "6e36df95-e7b7-4deb-dde6-12379b48a45b"
   },
   "outputs": [],
   "source": [
    "#Residual histogram plot\n",
    "sb.distplot((y_test-predictions))"
   ]
  },
  {
   "cell_type": "code",
   "execution_count": null,
   "metadata": {
    "colab": {
     "base_uri": "https://localhost:8080/"
    },
    "id": "U42-PGfEPQHu",
    "outputId": "bc942f83-390f-4c45-c9aa-a15f31a97f0c"
   },
   "outputs": [],
   "source": [
    "print('MAE:',metrics.mean_absolute_error(y_test,predictions))\n",
    "print('MSE:',metrics.mean_squared_error(y_test,predictions))\n",
    "print('RMSE:',np.sqrt(metrics.mean_squared_error(y_test,predictions)))"
   ]
  },
  {
   "cell_type": "code",
   "execution_count": null,
   "metadata": {
    "colab": {
     "base_uri": "https://localhost:8080/"
    },
    "id": "k9GuDEPFPwpN",
    "outputId": "e3c6046b-a82d-43de-e298-f4b8ebfc0e6d"
   },
   "outputs": [],
   "source": [
    "metrics.mean_absolute_error(y_test,predictions)"
   ]
  },
  {
   "cell_type": "code",
   "execution_count": null,
   "metadata": {
    "colab": {
     "base_uri": "https://localhost:8080/"
    },
    "id": "eI9m-E4CPytU",
    "outputId": "026d8118-577c-4696-ee04-80bdbb3ce969"
   },
   "outputs": [],
   "source": [
    "metrics.mean_squared_error(y_test,predictions)"
   ]
  },
  {
   "cell_type": "code",
   "execution_count": null,
   "metadata": {
    "colab": {
     "base_uri": "https://localhost:8080/"
    },
    "id": "Qq5JnguxP0Hm",
    "outputId": "6857cf8a-df99-4960-bbfb-6c6695f5c607"
   },
   "outputs": [],
   "source": [
    "np.sqrt(metrics.mean_squared_error(y_test,predictions))"
   ]
  },
  {
   "cell_type": "code",
   "execution_count": null,
   "metadata": {
    "id": "oY0rRDopK2bS"
   },
   "outputs": [],
   "source": []
  }
 ],
 "metadata": {
  "colab": {
   "authorship_tag": "ABX9TyMkxkdjSJXZfnOmQBDCbjIC",
   "collapsed_sections": [],
   "include_colab_link": true,
   "name": "EVMarket-India.ipynb",
   "provenance": []
  },
  "kernelspec": {
   "display_name": "Python 3 (ipykernel)",
   "language": "python",
   "name": "python3"
  },
  "language_info": {
   "codemirror_mode": {
    "name": "ipython",
    "version": 3
   },
   "file_extension": ".py",
   "mimetype": "text/x-python",
   "name": "python",
   "nbconvert_exporter": "python",
   "pygments_lexer": "ipython3",
   "version": "3.11.5"
  }
 },
 "nbformat": 4,
 "nbformat_minor": 1
}
